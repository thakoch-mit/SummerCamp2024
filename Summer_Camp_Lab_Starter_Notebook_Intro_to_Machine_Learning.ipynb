{
  "nbformat": 4,
  "nbformat_minor": 0,
  "metadata": {
    "colab": {
      "provenance": [],
      "toc_visible": true
    },
    "kernelspec": {
      "name": "python3",
      "display_name": "Python 3"
    },
    "language_info": {
      "name": "python"
    }
  },
  "cells": [
    {
      "cell_type": "markdown",
      "source": [
        "# Summer Camp Lab 1 - Intro to Machine Learning\n",
        "\n",
        "In this lab we will practice:\n",
        "\n",
        "* Loading Data\n",
        "* Data Exploration\n",
        "* Selecting the Prediction Target\n",
        "* Choosing Features\n",
        "* Splitting Data into Training and Test Sets\n",
        "* Building a Decision Tree Model\n",
        "* Model Validation\n",
        "* Hyperparameter Tuning\n",
        "* Building a Random Forest Model\n"
      ],
      "metadata": {
        "id": "83e8WGupd2Lb"
      }
    },
    {
      "cell_type": "markdown",
      "source": [
        "# Setting Up the Workspace"
      ],
      "metadata": {
        "id": "O_bQwf8uCCWL"
      }
    },
    {
      "cell_type": "code",
      "source": [
        "import pandas as pd\n",
        "from sklearn.model_selection import train_test_split\n",
        "from sklearn.tree import DecisionTreeRegressor\n",
        "from sklearn.ensemble import RandomForestRegressor\n",
        "import matplotlib.pyplot as plt\n",
        "\n",
        "#Metrics\n",
        "from sklearn.metrics import mean_squared_error\n",
        "from sklearn.metrics import mean_absolute_error\n",
        "from sklearn.metrics import mean_absolute_percentage_error\n",
        "from sklearn.metrics import mean_squared_error"
      ],
      "metadata": {
        "id": "kOySuqgH4TgM"
      },
      "execution_count": null,
      "outputs": []
    },
    {
      "cell_type": "markdown",
      "source": [
        "# Case Study\n",
        "\n",
        "BigMart's team of data scientists has gathered sales data for the year 2013, encompassing 1559 products distributed across 10 stores situated in various cities. The dataset includes specific attributes for each product and store.\n",
        "\n",
        "The primary objective is to construct a predictive model capable of forecasting the sales of individual products within specific outlets.\n",
        "\n",
        "This predictive model aims to unveil the influential factors that contribute to increased sales, enabling BigMart to gain insights into product and outlet characteristics crucial for sales growth."
      ],
      "metadata": {
        "id": "lJ1zOHJh4ZIb"
      }
    },
    {
      "cell_type": "markdown",
      "source": [
        "The data has the following features that could be useful in your model:\n",
        "\n",
        "* Item_Identifier: A unique identifier for each product.\n",
        "\n",
        "* Item_Weight: The weight of the product.\n",
        "\n",
        "* Item_Fat_Content: Indicates the level of fat content in the product, often categorized as 'Low Fat,' 'Regular,' etc.\n",
        "\n",
        "* Item_Visibility: The percentage of total display area of all products in a store allocated to a particular product.\n",
        "\n",
        "* Item_Type: The category or type of the product (e.g., dairy, meat, fruits, etc.).\n",
        "\n",
        "* Item_MRP (Maximum Retail Price): The maximum price at which the product can be sold.\n",
        "\n",
        "* Outlet_Identifier: A unique identifier for each store/outlet.\n",
        "\n",
        "* Outlet_Establishment_Year: The year in which the store was established.\n",
        "\n",
        "* Outlet_Size: The size of the store, often categorized as 'Small,' 'Medium,' or 'Large.'\n",
        "\n",
        "* Outlet_Location_Type: The type of location where the store is situated, such as 'Urban,' 'Suburban,' or 'Rural.'\n",
        "\n",
        "* Outlet_Type: The type of outlet, such as 'Supermarket Type1,' 'Supermarket Type2,' 'Grocery Store,' etc.\n",
        "\n",
        "* Item_Outlet_Sales: The target variable, representing the sales of the product in a particular store.\n"
      ],
      "metadata": {
        "id": "-LilGM_1o5he"
      }
    },
    {
      "cell_type": "markdown",
      "source": [
        "# Loading the Data"
      ],
      "metadata": {
        "id": "lDKUPq_gCXfG"
      }
    },
    {
      "cell_type": "code",
      "source": [
        "#import pandas as pd\n",
        "df_sales = pd.read_csv('https://www.dropbox.com/s/yqaymhdf7bvvair/bigmart_sales_predictions.csv?dl=1')\n"
      ],
      "metadata": {
        "id": "1olkYpeKnlEU"
      },
      "execution_count": null,
      "outputs": []
    },
    {
      "cell_type": "markdown",
      "source": [
        "# Data Exploration"
      ],
      "metadata": {
        "id": "A7_8InxaJ-rk"
      }
    },
    {
      "cell_type": "code",
      "source": [
        "# display first 5 rows of data\n",
        "df_sales.___"
      ],
      "metadata": {
        "id": "KffxRZpE4-dD"
      },
      "execution_count": null,
      "outputs": []
    },
    {
      "cell_type": "code",
      "source": [
        "# explore last 5 rows of data\n",
        "df_sales.___"
      ],
      "metadata": {
        "id": "ej6b-8leClxB"
      },
      "execution_count": null,
      "outputs": []
    },
    {
      "cell_type": "code",
      "source": [
        "# display information about columns (non-null count and dtype)\n",
        "df_sales.___"
      ],
      "metadata": {
        "id": "YpcwBpXuDWcy"
      },
      "execution_count": null,
      "outputs": []
    },
    {
      "cell_type": "code",
      "source": [
        "# explore descriptive statistics of the numerical data\n",
        "df_sales.___"
      ],
      "metadata": {
        "colab": {
          "base_uri": "https://localhost:8080/",
          "height": 206
        },
        "id": "Ot_XYakUFVvA",
        "outputId": "388183cb-1c20-4a4c-ba26-b49db70fc58f"
      },
      "execution_count": null,
      "outputs": [
        {
          "output_type": "execute_result",
          "data": {
            "text/plain": [
              "                            count         mean          std       min  \\\n",
              "Item_Weight                7060.0    12.857645     4.643456     4.555   \n",
              "Item_Visibility            8523.0     0.066132     0.051598     0.000   \n",
              "Item_MRP                   8523.0   140.992782    62.275067    31.290   \n",
              "Outlet_Establishment_Year  8523.0  1997.831867     8.371760  1985.000   \n",
              "Item_Outlet_Sales          8523.0  2181.288914  1706.499616    33.290   \n",
              "\n",
              "                                   25%          50%          75%           max  \n",
              "Item_Weight                   8.773750    12.600000    16.850000     21.350000  \n",
              "Item_Visibility               0.026989     0.053931     0.094585      0.328391  \n",
              "Item_MRP                     93.826500   143.012800   185.643700    266.888400  \n",
              "Outlet_Establishment_Year  1987.000000  1999.000000  2004.000000   2009.000000  \n",
              "Item_Outlet_Sales           834.247400  1794.331000  3101.296400  13086.964800  "
            ],
            "text/html": [
              "\n",
              "  <div id=\"df-0f8e9e30-2345-4d12-9d01-c742859ab85a\" class=\"colab-df-container\">\n",
              "    <div>\n",
              "<style scoped>\n",
              "    .dataframe tbody tr th:only-of-type {\n",
              "        vertical-align: middle;\n",
              "    }\n",
              "\n",
              "    .dataframe tbody tr th {\n",
              "        vertical-align: top;\n",
              "    }\n",
              "\n",
              "    .dataframe thead th {\n",
              "        text-align: right;\n",
              "    }\n",
              "</style>\n",
              "<table border=\"1\" class=\"dataframe\">\n",
              "  <thead>\n",
              "    <tr style=\"text-align: right;\">\n",
              "      <th></th>\n",
              "      <th>count</th>\n",
              "      <th>mean</th>\n",
              "      <th>std</th>\n",
              "      <th>min</th>\n",
              "      <th>25%</th>\n",
              "      <th>50%</th>\n",
              "      <th>75%</th>\n",
              "      <th>max</th>\n",
              "    </tr>\n",
              "  </thead>\n",
              "  <tbody>\n",
              "    <tr>\n",
              "      <th>Item_Weight</th>\n",
              "      <td>7060.0</td>\n",
              "      <td>12.857645</td>\n",
              "      <td>4.643456</td>\n",
              "      <td>4.555</td>\n",
              "      <td>8.773750</td>\n",
              "      <td>12.600000</td>\n",
              "      <td>16.850000</td>\n",
              "      <td>21.350000</td>\n",
              "    </tr>\n",
              "    <tr>\n",
              "      <th>Item_Visibility</th>\n",
              "      <td>8523.0</td>\n",
              "      <td>0.066132</td>\n",
              "      <td>0.051598</td>\n",
              "      <td>0.000</td>\n",
              "      <td>0.026989</td>\n",
              "      <td>0.053931</td>\n",
              "      <td>0.094585</td>\n",
              "      <td>0.328391</td>\n",
              "    </tr>\n",
              "    <tr>\n",
              "      <th>Item_MRP</th>\n",
              "      <td>8523.0</td>\n",
              "      <td>140.992782</td>\n",
              "      <td>62.275067</td>\n",
              "      <td>31.290</td>\n",
              "      <td>93.826500</td>\n",
              "      <td>143.012800</td>\n",
              "      <td>185.643700</td>\n",
              "      <td>266.888400</td>\n",
              "    </tr>\n",
              "    <tr>\n",
              "      <th>Outlet_Establishment_Year</th>\n",
              "      <td>8523.0</td>\n",
              "      <td>1997.831867</td>\n",
              "      <td>8.371760</td>\n",
              "      <td>1985.000</td>\n",
              "      <td>1987.000000</td>\n",
              "      <td>1999.000000</td>\n",
              "      <td>2004.000000</td>\n",
              "      <td>2009.000000</td>\n",
              "    </tr>\n",
              "    <tr>\n",
              "      <th>Item_Outlet_Sales</th>\n",
              "      <td>8523.0</td>\n",
              "      <td>2181.288914</td>\n",
              "      <td>1706.499616</td>\n",
              "      <td>33.290</td>\n",
              "      <td>834.247400</td>\n",
              "      <td>1794.331000</td>\n",
              "      <td>3101.296400</td>\n",
              "      <td>13086.964800</td>\n",
              "    </tr>\n",
              "  </tbody>\n",
              "</table>\n",
              "</div>\n",
              "    <div class=\"colab-df-buttons\">\n",
              "\n",
              "  <div class=\"colab-df-container\">\n",
              "    <button class=\"colab-df-convert\" onclick=\"convertToInteractive('df-0f8e9e30-2345-4d12-9d01-c742859ab85a')\"\n",
              "            title=\"Convert this dataframe to an interactive table.\"\n",
              "            style=\"display:none;\">\n",
              "\n",
              "  <svg xmlns=\"http://www.w3.org/2000/svg\" height=\"24px\" viewBox=\"0 -960 960 960\">\n",
              "    <path d=\"M120-120v-720h720v720H120Zm60-500h600v-160H180v160Zm220 220h160v-160H400v160Zm0 220h160v-160H400v160ZM180-400h160v-160H180v160Zm440 0h160v-160H620v160ZM180-180h160v-160H180v160Zm440 0h160v-160H620v160Z\"/>\n",
              "  </svg>\n",
              "    </button>\n",
              "\n",
              "  <style>\n",
              "    .colab-df-container {\n",
              "      display:flex;\n",
              "      gap: 12px;\n",
              "    }\n",
              "\n",
              "    .colab-df-convert {\n",
              "      background-color: #E8F0FE;\n",
              "      border: none;\n",
              "      border-radius: 50%;\n",
              "      cursor: pointer;\n",
              "      display: none;\n",
              "      fill: #1967D2;\n",
              "      height: 32px;\n",
              "      padding: 0 0 0 0;\n",
              "      width: 32px;\n",
              "    }\n",
              "\n",
              "    .colab-df-convert:hover {\n",
              "      background-color: #E2EBFA;\n",
              "      box-shadow: 0px 1px 2px rgba(60, 64, 67, 0.3), 0px 1px 3px 1px rgba(60, 64, 67, 0.15);\n",
              "      fill: #174EA6;\n",
              "    }\n",
              "\n",
              "    .colab-df-buttons div {\n",
              "      margin-bottom: 4px;\n",
              "    }\n",
              "\n",
              "    [theme=dark] .colab-df-convert {\n",
              "      background-color: #3B4455;\n",
              "      fill: #D2E3FC;\n",
              "    }\n",
              "\n",
              "    [theme=dark] .colab-df-convert:hover {\n",
              "      background-color: #434B5C;\n",
              "      box-shadow: 0px 1px 3px 1px rgba(0, 0, 0, 0.15);\n",
              "      filter: drop-shadow(0px 1px 2px rgba(0, 0, 0, 0.3));\n",
              "      fill: #FFFFFF;\n",
              "    }\n",
              "  </style>\n",
              "\n",
              "    <script>\n",
              "      const buttonEl =\n",
              "        document.querySelector('#df-0f8e9e30-2345-4d12-9d01-c742859ab85a button.colab-df-convert');\n",
              "      buttonEl.style.display =\n",
              "        google.colab.kernel.accessAllowed ? 'block' : 'none';\n",
              "\n",
              "      async function convertToInteractive(key) {\n",
              "        const element = document.querySelector('#df-0f8e9e30-2345-4d12-9d01-c742859ab85a');\n",
              "        const dataTable =\n",
              "          await google.colab.kernel.invokeFunction('convertToInteractive',\n",
              "                                                    [key], {});\n",
              "        if (!dataTable) return;\n",
              "\n",
              "        const docLinkHtml = 'Like what you see? Visit the ' +\n",
              "          '<a target=\"_blank\" href=https://colab.research.google.com/notebooks/data_table.ipynb>data table notebook</a>'\n",
              "          + ' to learn more about interactive tables.';\n",
              "        element.innerHTML = '';\n",
              "        dataTable['output_type'] = 'display_data';\n",
              "        await google.colab.output.renderOutput(dataTable, element);\n",
              "        const docLink = document.createElement('div');\n",
              "        docLink.innerHTML = docLinkHtml;\n",
              "        element.appendChild(docLink);\n",
              "      }\n",
              "    </script>\n",
              "  </div>\n",
              "\n",
              "\n",
              "<div id=\"df-a661d18c-57e0-49e2-9ca7-f18fa4a59b43\">\n",
              "  <button class=\"colab-df-quickchart\" onclick=\"quickchart('df-a661d18c-57e0-49e2-9ca7-f18fa4a59b43')\"\n",
              "            title=\"Suggest charts\"\n",
              "            style=\"display:none;\">\n",
              "\n",
              "<svg xmlns=\"http://www.w3.org/2000/svg\" height=\"24px\"viewBox=\"0 0 24 24\"\n",
              "     width=\"24px\">\n",
              "    <g>\n",
              "        <path d=\"M19 3H5c-1.1 0-2 .9-2 2v14c0 1.1.9 2 2 2h14c1.1 0 2-.9 2-2V5c0-1.1-.9-2-2-2zM9 17H7v-7h2v7zm4 0h-2V7h2v10zm4 0h-2v-4h2v4z\"/>\n",
              "    </g>\n",
              "</svg>\n",
              "  </button>\n",
              "\n",
              "<style>\n",
              "  .colab-df-quickchart {\n",
              "      --bg-color: #E8F0FE;\n",
              "      --fill-color: #1967D2;\n",
              "      --hover-bg-color: #E2EBFA;\n",
              "      --hover-fill-color: #174EA6;\n",
              "      --disabled-fill-color: #AAA;\n",
              "      --disabled-bg-color: #DDD;\n",
              "  }\n",
              "\n",
              "  [theme=dark] .colab-df-quickchart {\n",
              "      --bg-color: #3B4455;\n",
              "      --fill-color: #D2E3FC;\n",
              "      --hover-bg-color: #434B5C;\n",
              "      --hover-fill-color: #FFFFFF;\n",
              "      --disabled-bg-color: #3B4455;\n",
              "      --disabled-fill-color: #666;\n",
              "  }\n",
              "\n",
              "  .colab-df-quickchart {\n",
              "    background-color: var(--bg-color);\n",
              "    border: none;\n",
              "    border-radius: 50%;\n",
              "    cursor: pointer;\n",
              "    display: none;\n",
              "    fill: var(--fill-color);\n",
              "    height: 32px;\n",
              "    padding: 0;\n",
              "    width: 32px;\n",
              "  }\n",
              "\n",
              "  .colab-df-quickchart:hover {\n",
              "    background-color: var(--hover-bg-color);\n",
              "    box-shadow: 0 1px 2px rgba(60, 64, 67, 0.3), 0 1px 3px 1px rgba(60, 64, 67, 0.15);\n",
              "    fill: var(--button-hover-fill-color);\n",
              "  }\n",
              "\n",
              "  .colab-df-quickchart-complete:disabled,\n",
              "  .colab-df-quickchart-complete:disabled:hover {\n",
              "    background-color: var(--disabled-bg-color);\n",
              "    fill: var(--disabled-fill-color);\n",
              "    box-shadow: none;\n",
              "  }\n",
              "\n",
              "  .colab-df-spinner {\n",
              "    border: 2px solid var(--fill-color);\n",
              "    border-color: transparent;\n",
              "    border-bottom-color: var(--fill-color);\n",
              "    animation:\n",
              "      spin 1s steps(1) infinite;\n",
              "  }\n",
              "\n",
              "  @keyframes spin {\n",
              "    0% {\n",
              "      border-color: transparent;\n",
              "      border-bottom-color: var(--fill-color);\n",
              "      border-left-color: var(--fill-color);\n",
              "    }\n",
              "    20% {\n",
              "      border-color: transparent;\n",
              "      border-left-color: var(--fill-color);\n",
              "      border-top-color: var(--fill-color);\n",
              "    }\n",
              "    30% {\n",
              "      border-color: transparent;\n",
              "      border-left-color: var(--fill-color);\n",
              "      border-top-color: var(--fill-color);\n",
              "      border-right-color: var(--fill-color);\n",
              "    }\n",
              "    40% {\n",
              "      border-color: transparent;\n",
              "      border-right-color: var(--fill-color);\n",
              "      border-top-color: var(--fill-color);\n",
              "    }\n",
              "    60% {\n",
              "      border-color: transparent;\n",
              "      border-right-color: var(--fill-color);\n",
              "    }\n",
              "    80% {\n",
              "      border-color: transparent;\n",
              "      border-right-color: var(--fill-color);\n",
              "      border-bottom-color: var(--fill-color);\n",
              "    }\n",
              "    90% {\n",
              "      border-color: transparent;\n",
              "      border-bottom-color: var(--fill-color);\n",
              "    }\n",
              "  }\n",
              "</style>\n",
              "\n",
              "  <script>\n",
              "    async function quickchart(key) {\n",
              "      const quickchartButtonEl =\n",
              "        document.querySelector('#' + key + ' button');\n",
              "      quickchartButtonEl.disabled = true;  // To prevent multiple clicks.\n",
              "      quickchartButtonEl.classList.add('colab-df-spinner');\n",
              "      try {\n",
              "        const charts = await google.colab.kernel.invokeFunction(\n",
              "            'suggestCharts', [key], {});\n",
              "      } catch (error) {\n",
              "        console.error('Error during call to suggestCharts:', error);\n",
              "      }\n",
              "      quickchartButtonEl.classList.remove('colab-df-spinner');\n",
              "      quickchartButtonEl.classList.add('colab-df-quickchart-complete');\n",
              "    }\n",
              "    (() => {\n",
              "      let quickchartButtonEl =\n",
              "        document.querySelector('#df-a661d18c-57e0-49e2-9ca7-f18fa4a59b43 button');\n",
              "      quickchartButtonEl.style.display =\n",
              "        google.colab.kernel.accessAllowed ? 'block' : 'none';\n",
              "    })();\n",
              "  </script>\n",
              "</div>\n",
              "\n",
              "    </div>\n",
              "  </div>\n"
            ]
          },
          "metadata": {},
          "execution_count": 5
        }
      ]
    },
    {
      "cell_type": "code",
      "source": [
        "# explore values of object data, such as Outlet_Location_Type\n",
        "df_sales.___"
      ],
      "metadata": {
        "id": "7GhTOY6UHz68"
      },
      "execution_count": null,
      "outputs": []
    },
    {
      "cell_type": "markdown",
      "source": [
        "# Selecting the Prediction Target"
      ],
      "metadata": {
        "id": "ZdD3SJ0KrG6T"
      }
    },
    {
      "cell_type": "code",
      "source": [
        "# Our target variable is the sales of an item at an outlet.\n",
        "y = ___\n",
        "y"
      ],
      "metadata": {
        "id": "xRgznLASEg-F"
      },
      "execution_count": null,
      "outputs": []
    },
    {
      "cell_type": "markdown",
      "source": [
        "# Choosing Features"
      ],
      "metadata": {
        "id": "107Ec2NaEiGY"
      }
    },
    {
      "cell_type": "code",
      "source": [
        "# We include a few features that we think could be useful as features in our model.\n",
        "#Include Item_Visibility. Item_MRP, Item_Weight\n",
        "X = df_sales[].fillna(0)\n",
        "X"
      ],
      "metadata": {
        "id": "Ixqs6iKCrEN6"
      },
      "execution_count": null,
      "outputs": []
    },
    {
      "cell_type": "code",
      "source": [
        "# Check descriptive statistics of the features\n",
        "X.___"
      ],
      "metadata": {
        "id": "XoUup4qSI67T"
      },
      "execution_count": null,
      "outputs": []
    },
    {
      "cell_type": "code",
      "source": [
        "# Check dtypes of the features\n",
        "X.___"
      ],
      "metadata": {
        "id": "z7JEpPwXI_Hc"
      },
      "execution_count": null,
      "outputs": []
    },
    {
      "cell_type": "markdown",
      "source": [
        "# Split Data into Training and Test Sets\n",
        "\n",
        "Use random state if you want to generate the same split for each run of your code."
      ],
      "metadata": {
        "id": "4i5klzaorjsL"
      }
    },
    {
      "cell_type": "code",
      "source": [
        "# Split the features and the target into training and test sets\n",
        "X_train, X_test, y_train, y_test = ___"
      ],
      "metadata": {
        "id": "w_BPnVM2rnfy"
      },
      "execution_count": null,
      "outputs": []
    },
    {
      "cell_type": "markdown",
      "source": [
        "# Building a Decision Tree Model"
      ],
      "metadata": {
        "id": "KiRgqjWAush-"
      }
    },
    {
      "cell_type": "code",
      "source": [
        "# Create a decision tree regressor\n",
        "model = ____()\n",
        "\n",
        "# Train the model\n",
        "model.fit(___)\n",
        "\n",
        "# Make predictions on the test set\n",
        "predictions = model.predict(____)\n",
        "\n",
        "# Evaluate the model with mean_squared_error\n",
        "print(____)\n"
      ],
      "metadata": {
        "id": "iKelMjCJuuJ0"
      },
      "execution_count": null,
      "outputs": []
    },
    {
      "cell_type": "markdown",
      "source": [
        "# Model Validation"
      ],
      "metadata": {
        "id": "b7qdncSDKdbo"
      }
    },
    {
      "cell_type": "code",
      "source": [
        "#Mean Absoulute Error (MAE)\n",
        "print(___(y_test, predictions))"
      ],
      "metadata": {
        "id": "k50LB0FEL381"
      },
      "execution_count": null,
      "outputs": []
    },
    {
      "cell_type": "code",
      "source": [
        "#Mean Absoulute Percentage Error (MAPE)\n",
        "\n",
        "print(___(y_test, predictions))"
      ],
      "metadata": {
        "id": "SRA4MW3cL6eu"
      },
      "execution_count": null,
      "outputs": []
    },
    {
      "cell_type": "code",
      "source": [
        "#Mean Squared Error (MSE)\n",
        "print(____(y_test, predictions))"
      ],
      "metadata": {
        "id": "WNO4SLI6L8_u"
      },
      "execution_count": null,
      "outputs": []
    },
    {
      "cell_type": "code",
      "source": [
        "# Root Mean Squared Error (RMSE)\n",
        "print(___(y_test, predictions, ___))"
      ],
      "metadata": {
        "id": "Cvv02VNpL-IV"
      },
      "execution_count": null,
      "outputs": []
    },
    {
      "cell_type": "markdown",
      "source": [
        "# Hyperparameter Tuning"
      ],
      "metadata": {
        "id": "SQ29pEBZKuXX"
      }
    },
    {
      "cell_type": "code",
      "source": [
        "def decisiontree_depth_effect(train_X, train_y, test_X, test_y, max_depth_range):\n",
        "\n",
        "    train_errors = []\n",
        "    test_errors = []\n",
        "\n",
        "    for depth in max_depth_range:\n",
        "        # Create a decision tree regressor with the specified maximum depth\n",
        "        model = DecisionTreeRegressor(max_depth=depth)\n",
        "\n",
        "        # Train the model\n",
        "        model.fit(train_X, train_y)\n",
        "\n",
        "        # Make predictions on training and test data\n",
        "        train_preds = model.predict(train_X)\n",
        "        test_preds = model.predict(test_X)\n",
        "\n",
        "        # Calculate mean squared error for training and test data\n",
        "        train_error = mean_squared_error(train_y, train_preds)\n",
        "        test_error = mean_squared_error(test_y, test_preds)\n",
        "\n",
        "        # Append errors to the lists\n",
        "        train_errors.append(train_error)\n",
        "        test_errors.append(test_error)\n",
        "\n",
        "    # Plotting the results\n",
        "    plt.figure(figsize=(10, 6))\n",
        "    plt.plot(max_depth_range, train_errors, label='Training Error', marker='o')\n",
        "    plt.plot(max_depth_range, test_errors, label='Test Error', marker='o')\n",
        "    plt.xlabel('Tree Depth')\n",
        "    plt.ylabel('Mean Squared Error')\n",
        "    plt.title('Effect of Tree Depth of DecisionTree on Error Metric')\n",
        "    plt.legend()\n",
        "    plt.show()\n"
      ],
      "metadata": {
        "id": "wLeSULS0KrdS"
      },
      "execution_count": null,
      "outputs": []
    },
    {
      "cell_type": "code",
      "source": [
        "# Display loss curves for a range of the hyperparameter\n",
        "decisiontree_depth_effect(X_train, y_train, X_test, y_test, range(___, ___))"
      ],
      "metadata": {
        "id": "QpaPUNOhK3Dh"
      },
      "execution_count": null,
      "outputs": []
    },
    {
      "cell_type": "markdown",
      "source": [
        "# Building a Random Forest Model"
      ],
      "metadata": {
        "id": "F_A-XtWvuxbF"
      }
    },
    {
      "cell_type": "code",
      "source": [
        "# Create a decision tree regressor\n",
        "model = ___()\n",
        "\n",
        "# Train the model\n",
        "model.___(___, ___)\n",
        "\n",
        "# Make predictions on the test set\n",
        "predictions = model.___(__)\n",
        "\n",
        "# Evaluate the model using MSE\n",
        "print(___(___, ___))"
      ],
      "metadata": {
        "id": "sH4isNPLuzhl"
      },
      "execution_count": null,
      "outputs": []
    },
    {
      "cell_type": "code",
      "source": [
        "def randomforest_depth_effect(train_X, train_y, test_X, test_y, max_depth_range):\n",
        "\n",
        "    train_errors = []\n",
        "    test_errors = []\n",
        "\n",
        "    for depth in max_depth_range:\n",
        "        # Create a decision tree regressor with the specified maximum depth\n",
        "        model = RandomForestRegressor(max_depth=depth)\n",
        "\n",
        "        # Train the model\n",
        "        model.fit(train_X, train_y)\n",
        "\n",
        "        # Make predictions on training and test data\n",
        "        train_preds = model.predict(train_X)\n",
        "        test_preds = model.predict(test_X)\n",
        "\n",
        "        # Calculate mean squared error for training and test data\n",
        "        train_error = mean_squared_error(train_y, train_preds)\n",
        "        test_error = mean_squared_error(test_y, test_preds)\n",
        "\n",
        "        # Append errors to the lists\n",
        "        train_errors.append(train_error)\n",
        "        test_errors.append(test_error)\n",
        "\n",
        "    # Plotting the results\n",
        "    plt.figure(figsize=(10, 6))\n",
        "    plt.plot(max_depth_range, train_errors, label='Training Error', marker='o')\n",
        "    plt.plot(max_depth_range, test_errors, label='Test Error', marker='o')\n",
        "    plt.xlabel('Tree Depth')\n",
        "    plt.ylabel('Mean Squared Error')\n",
        "    plt.title('Effect of Tree Depth of RandomForest on Error Metric')\n",
        "    plt.legend()\n",
        "    plt.show()\n"
      ],
      "metadata": {
        "id": "A_ZQ4B4kjBO4"
      },
      "execution_count": null,
      "outputs": []
    },
    {
      "cell_type": "code",
      "source": [
        "# Display loss curves for a range of the hyperparameter\n",
        "randomforest_depth_effect(X_train, y_train, X_test, y_test, range(___, ___))"
      ],
      "metadata": {
        "id": "ui_o1nSNjESf"
      },
      "execution_count": null,
      "outputs": []
    },
    {
      "cell_type": "markdown",
      "source": [
        "\n",
        "# Assignment\n",
        "\n",
        "In class you learned about the hyperparameter 'max_leaf_nodes'. In lab you learned about the hyperparameter 'max_depth'. Please repeat the lab notebook two (2) times experimenting with tuning the following hyperparamaters:\n",
        "\n",
        "* 'min_samples_split' (int, default=2): The minimum number of samples required to split an internal node.\n",
        "\n",
        "* 'min_samples_leaf' (int, default=1): The minimum number of samples required to be at a leaf node. A split point at any depth will only be considered if it leaves at least min_samples_leaf training samples in each of the left and right branches. This may have the effect of smoothing the model, especially in regression.\n",
        "\n",
        "Does your tuning of the new hyperparametes yield \"better\" results than in lab? Explain your intuition why or why not.\n",
        "\n",
        "Please submit your two (2) notebooks together with a PDF file with brief interpretation of your findings.\n",
        "\n",
        "*The goal of the exercise is not to develop an optimal model, but rather to practice your skills and your reasoning.*\n",
        "\n",
        "\n",
        "BONUS: Experiment with adding a **categorical variable** as a series of binary dummy variables using techniques that you learned in Logistic Regression!"
      ],
      "metadata": {
        "id": "WK-L-rgJX5Fe"
      }
    }
  ]
}