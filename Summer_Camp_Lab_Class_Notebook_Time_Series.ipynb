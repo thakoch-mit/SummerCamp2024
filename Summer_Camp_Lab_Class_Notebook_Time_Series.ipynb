{
  "cells": [
    {
      "cell_type": "markdown",
      "metadata": {
        "id": "83e8WGupd2Lb"
      },
      "source": [
        "# Summer Camp lab 3 - Time Series\n",
        "\n",
        "\n",
        "New this lab:\n",
        "* Trend\n",
        "* Seasonality\n",
        "* Lag\n",
        "* Hybrid Models\n",
        "\n",
        "\n"
      ]
    },
    {
      "cell_type": "markdown",
      "metadata": {
        "id": "pmQ-JnsKlH9y"
      },
      "source": [
        "**To work in the notebook, first copy the notebook to your own drive. File > \"Save a copy in Drive\"**"
      ]
    },
    {
      "cell_type": "markdown",
      "metadata": {
        "id": "O_bQwf8uCCWL"
      },
      "source": [
        "# Setting Up the Workspace"
      ]
    },
    {
      "cell_type": "code",
      "execution_count": null,
      "metadata": {
        "id": "kOySuqgH4TgM"
      },
      "outputs": [],
      "source": [
        "import pandas as pd\n",
        "import numpy as np\n",
        "from sklearn.model_selection import train_test_split\n",
        "from sklearn.tree import DecisionTreeRegressor\n",
        "from sklearn.ensemble import RandomForestRegressor\n",
        "import matplotlib.pyplot as plt\n",
        "import seaborn as sns\n",
        "\n",
        "#For timeseries\n",
        "from sklearn.linear_model import LinearRegression\n",
        "\n",
        "#Metrics\n",
        "from sklearn.metrics import mean_squared_error\n",
        "from sklearn.metrics import mean_absolute_error\n",
        "from sklearn.metrics import mean_absolute_percentage_error\n",
        "from sklearn.metrics import mean_squared_error\n",
        "\n",
        "from sklearn.model_selection import cross_val_score\n",
        "from sklearn.model_selection import cross_val_predict\n",
        "\n",
        "from sklearn.model_selection import TimeSeriesSplit\n",
        "from statsmodels.graphics.tsaplots import plot_pacf\n",
        "from statsmodels.graphics.tsaplots import plot_acf\n",
        "from statsmodels.tsa.seasonal import seasonal_decompose\n",
        "from statsmodels.tsa.deterministic import CalendarFourier, DeterministicProcess\n",
        "\n",
        "plt.rc(\"figure\", autolayout=True, figsize=(12, 4))"
      ]
    },
    {
      "cell_type": "markdown",
      "metadata": {
        "id": "lJ1zOHJh4ZIb"
      },
      "source": [
        "# Case Study\n",
        "\n",
        "We will be using a dataset used in the Rossman Store Sales Kaggle competition. The competition was organized by Kaggle and sponsored by Rossmann, a drugstore chain in Germany. The purpose of the competition was to develop predictive models that could accurately forecast the sales of Rossmann stores based on historical data and various features.\n",
        "\n",
        "The dataset includes information about individual Rossmann stores, such as the store's characteristics, the day of the week, whether there were promotions or holidays, and other relevant factors. Participants in the competition were tasked with building models that could predict the future sales of these stores, given the provided historical data.\n",
        "\n",
        "The primary goals of the Rossman Store Sales competition were to encourage participants to apply machine learning techniques to real-world retail data and to develop models that could assist retailers like Rossmann in optimizing their operations, inventory management, and sales forecasting.\n",
        "\n",
        "\n",
        "* Store: A unique identifier for each store in the dataset.\n",
        "\n",
        "* DayOfWeek: The day of the week when the sale occurred (1 for Monday, 2 for Tuesday, and so on).\n",
        "\n",
        "* Date: The date of the sale.\n",
        "\n",
        "* Sales: The target variable, representing the sales for a particular store on a given day.\n",
        "\n",
        "* Customers: The number of customers who made a purchase on a specific day.\n",
        "\n",
        "* Open: A binary indicator (0 or 1) representing whether the store was open or closed on a given day.\n",
        "\n",
        "* Promo: A binary indicator (0 or 1) representing whether a store was running a promotion on that day.\n",
        "\n",
        "* StateHoliday: A categorical variable indicating whether it is a state holiday or not.\n",
        "\n",
        "* SchoolHoliday: A binary indicator (0 or 1) representing whether it is a school holiday or not.\n",
        "\n",
        "* StoreType: A categorical variable indicating the type of store (e.g., a, b, c, d).\n",
        "\n",
        "* Assortment: A categorical variable describing the assortment level (e.g., a, b, c).\n",
        "\n",
        "* CompetitionDistance: The distance to the nearest competitor store.\n",
        "\n"
      ]
    },
    {
      "cell_type": "markdown",
      "metadata": {
        "id": "lDKUPq_gCXfG"
      },
      "source": [
        "# Loading the Data"
      ]
    },
    {
      "cell_type": "code",
      "execution_count": null,
      "metadata": {
        "id": "f5Gg0CuK_EaO"
      },
      "outputs": [],
      "source": [
        "#import pandas as pd\n",
        "df_sales = pd.read_csv('https://www.dropbox.com/scl/fi/hxl03q2yp27kqmwgr8grr/rossman_sales.csv?rlkey=b8gmoasdgztukchq98zzzujk7&dl=1').drop(columns='DayOfWeek')\n",
        "#Parse date\n",
        "df_sales.Date = pd.to_datetime(df_sales.Date)\n",
        "#Sort by Date and Store\n",
        "df_sales = df_sales.sort_values(['Date','Store'])\n",
        "#Set promo off if store is not open\n",
        "df_sales.loc[df_sales[\"Open\"] == 0, \"Promo\"] = 0"
      ]
    },
    {
      "cell_type": "code",
      "source": [
        "df_sales"
      ],
      "metadata": {
        "id": "3Q73sdtRnGbr"
      },
      "execution_count": null,
      "outputs": []
    },
    {
      "cell_type": "code",
      "execution_count": null,
      "metadata": {
        "id": "axl4z030_2YX"
      },
      "outputs": [],
      "source": [
        "df_sales.dtypes"
      ]
    },
    {
      "cell_type": "code",
      "execution_count": null,
      "metadata": {
        "id": "1olkYpeKnlEU"
      },
      "outputs": [],
      "source": [
        "df_sales.head()"
      ]
    },
    {
      "cell_type": "markdown",
      "metadata": {
        "id": "A7_8InxaJ-rk"
      },
      "source": [
        "# Data Exploration"
      ]
    },
    {
      "cell_type": "code",
      "execution_count": null,
      "metadata": {
        "id": "ej6b-8leClxB"
      },
      "outputs": [],
      "source": [
        "df_sales.tail()"
      ]
    },
    {
      "cell_type": "code",
      "execution_count": null,
      "metadata": {
        "id": "YpcwBpXuDWcy"
      },
      "outputs": [],
      "source": [
        "df_sales.info()"
      ]
    },
    {
      "cell_type": "code",
      "execution_count": null,
      "metadata": {
        "id": "Ot_XYakUFVvA"
      },
      "outputs": [],
      "source": [
        "df_sales.describe().T"
      ]
    },
    {
      "cell_type": "code",
      "execution_count": null,
      "metadata": {
        "id": "wSi-Aq5kAmZj"
      },
      "outputs": [],
      "source": [
        "#Plot daily data.\n",
        "df_daily_sales = df_sales.groupby('Date')['Sales'].sum()\n",
        "df_daily_sales.plot.line()"
      ]
    },
    {
      "cell_type": "code",
      "execution_count": null,
      "metadata": {
        "id": "twAYTOs4AtgX"
      },
      "outputs": [],
      "source": [
        "#Sum daily data into weekly data and plot weekly sales.\n",
        "df_weekly_sales = df_daily_sales.resample('W-Mon').sum()\n",
        "df_weekly_sales.plot.line()"
      ]
    },
    {
      "cell_type": "markdown",
      "metadata": {
        "id": "Cy7uYvZBC1iu"
      },
      "source": [
        "28 Day moving average."
      ]
    },
    {
      "cell_type": "code",
      "execution_count": null,
      "metadata": {
        "id": "_9jjA6u1Ca1C"
      },
      "outputs": [],
      "source": [
        "df_daily_sales.rolling(window=28, center=True).mean().plot.line()"
      ]
    },
    {
      "cell_type": "markdown",
      "metadata": {
        "id": "JGMiRrrGG3zA"
      },
      "source": [
        "We will focus on a single store for now:"
      ]
    },
    {
      "cell_type": "code",
      "execution_count": null,
      "metadata": {
        "id": "AK2XkpbfGYdr"
      },
      "outputs": [],
      "source": [
        "df_sales1 = df_sales[df_sales.Store == 1].set_index('Date')\n",
        "df_sales1"
      ]
    },
    {
      "cell_type": "markdown",
      "metadata": {
        "id": "rKRgJLxSHssw"
      },
      "source": [
        "28 day moving average"
      ]
    },
    {
      "cell_type": "code",
      "execution_count": null,
      "metadata": {
        "id": "WNc6lg5-HAQ4"
      },
      "outputs": [],
      "source": [
        "df_sales1['Sales'].rolling(window=28, center=True).mean().plot.line()"
      ]
    },
    {
      "cell_type": "markdown",
      "metadata": {
        "id": "YgdlINg_KRwA"
      },
      "source": [
        "# Trend"
      ]
    },
    {
      "cell_type": "markdown",
      "metadata": {
        "id": "J3uQOxquHztm"
      },
      "source": [
        "Pandas"
      ]
    },
    {
      "cell_type": "code",
      "execution_count": null,
      "metadata": {
        "id": "yqyjFmLHHqpg"
      },
      "outputs": [],
      "source": [
        "data = df_sales1.copy()\n",
        "data['Day'] = np.arange(0, len(data.index))\n",
        "data"
      ]
    },
    {
      "cell_type": "code",
      "execution_count": null,
      "metadata": {
        "id": "rSte39KvIQuX"
      },
      "outputs": [],
      "source": [
        "fig, ax = plt.subplots()\n",
        "ax.plot('Day', 'Sales', data=data, color='0.75', alpha=0.4)\n",
        "ax = sns.regplot(x='Day', y='Sales', data=data, ci=None, scatter_kws=dict(color='0.25'), marker=\"x\")\n",
        "ax.set_title('Time Plot of Daily Sales at Store 1');"
      ]
    },
    {
      "cell_type": "markdown",
      "metadata": {
        "id": "Jpc61dGiJhXn"
      },
      "source": [
        "StatsModels DeterministicProcess"
      ]
    },
    {
      "cell_type": "code",
      "execution_count": null,
      "metadata": {
        "id": "tCKNZyfQJjbG"
      },
      "outputs": [],
      "source": [
        "#Set period with the correct frequency (W for weekly) and DeterministicProcess will set the Date as index\n",
        "data = df_sales1.copy().to_period('D')\n",
        "\n",
        "dp = DeterministicProcess(\n",
        "    index=data.index,  # dates from the training data\n",
        "    constant=True,       # dummy feature for the bias (y_intercept)\n",
        "    order=1,             # the time dummy (trend)\n",
        "    drop=True,           # drop terms if necessary to avoid collinearity\n",
        ")\n",
        "\n",
        "y = data['Sales']\n",
        "X = dp.in_sample()\n",
        "X"
      ]
    },
    {
      "cell_type": "markdown",
      "metadata": {
        "id": "EVqvhOISJFXT"
      },
      "source": [
        "Linear regression with timestep features."
      ]
    },
    {
      "cell_type": "code",
      "execution_count": null,
      "metadata": {
        "id": "6NI3snQwJE0I"
      },
      "outputs": [],
      "source": [
        "# The intercept is the same as the `const` feature from\n",
        "# DeterministicProcess. LinearRegression behaves badly with duplicated\n",
        "# features, so we need to be sure to exclude it here.\n",
        "model = LinearRegression(fit_intercept=False)\n",
        "\n",
        "# Train the model\n",
        "model.fit(X, y)\n",
        "\n",
        "# Store the fitted values as a time series with the same time index as\n",
        "# the training data\n",
        "y_pred = pd.Series(model.predict(X), index=X.index, name='Sales')\n",
        "print (f\"MAE: {mean_absolute_error(model.predict(X), y)}\")\n",
        "\n",
        "print (f\"Coeffecient {model.coef_}\")\n",
        "print (f\"Intercept {model.intercept_}\")"
      ]
    },
    {
      "cell_type": "code",
      "execution_count": null,
      "metadata": {
        "id": "4GNqJpyoJaMd"
      },
      "outputs": [],
      "source": [
        "ax = y.plot(label=\"Sales\")\n",
        "ax = y_pred.plot(ax=ax, linewidth=3, label=\"Trend\")\n",
        "ax.set_title('Time Plot of Daily Sales at Store 1')\n",
        "_ = ax.legend()"
      ]
    },
    {
      "cell_type": "markdown",
      "metadata": {
        "id": "wRjkluWcKYNN"
      },
      "source": [
        "Predict out of sample"
      ]
    },
    {
      "cell_type": "code",
      "source": [
        "# Timestamp features, 180 days out in the feature\n",
        "X_fore = dp.out_of_sample(steps=180)\n",
        "X_fore"
      ],
      "metadata": {
        "id": "-R7N1YhrQO07"
      },
      "execution_count": null,
      "outputs": []
    },
    {
      "cell_type": "code",
      "execution_count": null,
      "metadata": {
        "id": "vHZr9B_0KXrG"
      },
      "outputs": [],
      "source": [
        "#Forecast\n",
        "y_fore = pd.Series(model.predict(X_fore), index=X_fore.index).to_frame('Sales')\n",
        "\n",
        "#Plot results\n",
        "ax = data.Sales.plot(title=\"Time Plot of Daily Sales at Store 1 - Forecast\")\n",
        "ax = y_pred.plot(ax=ax, linewidth=3, label=\"Trend\")\n",
        "ax = y_fore.plot(ax=ax, linewidth=3, label=\"Trend Forecast\", color=\"C3\")\n",
        "_ = ax.legend()"
      ]
    },
    {
      "cell_type": "markdown",
      "source": [
        "# Seasonality"
      ],
      "metadata": {
        "id": "W0i5KjJoV3zX"
      }
    },
    {
      "cell_type": "markdown",
      "source": [
        "## Code"
      ],
      "metadata": {
        "id": "J2ifonOoB5KV"
      }
    },
    {
      "cell_type": "code",
      "source": [
        "# annotations: https://stackoverflow.com/a/49238256/5769929\n",
        "def seasonal_plot(X, y, period, freq, ax=None):\n",
        "    if ax is None:\n",
        "        _, ax = plt.subplots()\n",
        "    palette = sns.color_palette(\"husl\", n_colors=X[period].nunique(),)\n",
        "    ax = sns.lineplot(\n",
        "        x=freq,\n",
        "        y=y,\n",
        "        hue=period,\n",
        "        data=X,\n",
        "        ci=False,\n",
        "        ax=ax,\n",
        "        palette=palette,\n",
        "        legend=False,\n",
        "    )\n",
        "    ax.set_title(f\"Seasonal Plot ({period}/{freq})\")\n",
        "    for line, name in zip(ax.lines, X[period].unique()):\n",
        "        y_ = line.get_ydata()[-1]\n",
        "        ax.annotate(\n",
        "            name,\n",
        "            xy=(1, y_),\n",
        "            xytext=(6, 0),\n",
        "            color=line.get_color(),\n",
        "            xycoords=ax.get_yaxis_transform(),\n",
        "            textcoords=\"offset points\",\n",
        "            size=14,\n",
        "            va=\"center\",\n",
        "        )\n",
        "    return ax\n"
      ],
      "metadata": {
        "id": "Utv0b8-4V48m"
      },
      "execution_count": null,
      "outputs": []
    },
    {
      "cell_type": "markdown",
      "source": [
        "## Example"
      ],
      "metadata": {
        "id": "ryKuLVE8B8sk"
      }
    },
    {
      "cell_type": "code",
      "source": [
        "X = df_sales1.resample('W').sum().copy()\n",
        "\n",
        "X[\"month\"] = X.index.month  # the x-axis (freq)\n",
        "X[\"year\"] = X.index.year  # the seasonal period (period)\n",
        "\n",
        "X[\"week\"] = X.index.isocalendar().week\n",
        "X[\"quarter\"] = X.index.quarter\n",
        "\n",
        "fig, ax = plt.subplots(1, 1, figsize=(11, 6))\n",
        "seasonal_plot(X, y=\"Sales\", period=\"year\", freq=\"week\", ax=ax)\n",
        "plt.show()"
      ],
      "metadata": {
        "id": "Ea0fcl4SV6nt"
      },
      "execution_count": null,
      "outputs": []
    },
    {
      "cell_type": "code",
      "source": [
        "result = seasonal_decompose(data['Sales'].to_timestamp())\n",
        "_ = result.plot()"
      ],
      "metadata": {
        "id": "VQ6YLkMVcnkN"
      },
      "execution_count": null,
      "outputs": []
    },
    {
      "cell_type": "code",
      "source": [
        "#Set period with the correct frequency (D for Daily, W for weekly) and DeterministicProcess will set the Date as index\n",
        "data = df_sales1.copy().to_period('D')\n",
        "\n",
        "dp = DeterministicProcess(\n",
        "    index=data.index,   # dates from the training data\n",
        "    constant=True,       # dummy feature for the bias (y_intercept)\n",
        "    order=1,             # the time dummy (trend)\n",
        "    drop=True,           # drop terms if necessary to avoid collinearity\n",
        "    seasonal=True        # Daily seasonality (indicators)\n",
        ")\n",
        "\n",
        "y = data['Sales']\n",
        "X = dp.in_sample()\n",
        "X"
      ],
      "metadata": {
        "id": "7AEok6syXBsy"
      },
      "execution_count": null,
      "outputs": []
    },
    {
      "cell_type": "markdown",
      "source": [
        "Seasonal forecast with day-of-week indicators."
      ],
      "metadata": {
        "id": "HpEEebr7Xby4"
      }
    },
    {
      "cell_type": "code",
      "source": [
        "y = data[\"Sales\"]\n",
        "\n",
        "model = LinearRegression(fit_intercept=False)\n",
        "_ = model.fit(X, y)\n",
        "\n",
        "y_pred = pd.Series(model.predict(X), index=y.index)\n",
        "print (f\"MAE: {mean_absolute_error(y_pred, y)}\")\n",
        "\n",
        "X_fore = dp.out_of_sample(steps=90)\n",
        "y_fore = pd.Series(model.predict(X_fore), index=X_fore.index)\n",
        "\n",
        "ax = y.plot(color='0.25', style='.', title=\"Daily Sales at Store 1 - Seasonal Forecast\")\n",
        "ax = y_pred.plot(ax=ax, label=\"Seasonal\")\n",
        "ax = y_fore.plot(ax=ax, label=\"Seasonal Forecast\", color='C3')\n",
        "_ = ax.legend()"
      ],
      "metadata": {
        "id": "NeI-r5-rXOii"
      },
      "execution_count": null,
      "outputs": []
    },
    {
      "cell_type": "code",
      "source": [
        "#Set period with the correct frequency (D for Daily, W for weekly) and DeterministicProcess will set the Date as index\n",
        "data = df_sales1.copy().to_period('D')\n",
        "fourier = CalendarFourier(freq='Y', order=12)\n",
        "\n",
        "dp = DeterministicProcess(\n",
        "    index=data.index,  # dates from the training data\n",
        "    constant=True,       # dummy feature for the bias (y_intercept)\n",
        "    order=1,             # the time dummy (trend)\n",
        "    drop=True,           # drop terms if necessary to avoid collinearity\n",
        "    seasonal=True,       # Daily seasonality (indicators)\n",
        "    additional_terms=[fourier],\n",
        ")\n",
        "\n",
        "y = data['Sales']\n",
        "X = dp.in_sample()\n",
        "X"
      ],
      "metadata": {
        "id": "TcMQpjcAXhjI"
      },
      "execution_count": null,
      "outputs": []
    },
    {
      "cell_type": "code",
      "source": [
        "result = seasonal_decompose(data['Sales'].to_timestamp())\n",
        "_ = result.plot()"
      ],
      "metadata": {
        "id": "XQA1rOmNcztF"
      },
      "execution_count": null,
      "outputs": []
    },
    {
      "cell_type": "code",
      "source": [
        "y = data[\"Sales\"]\n",
        "\n",
        "model = LinearRegression(fit_intercept=False)\n",
        "_ = model.fit(X, y)\n",
        "\n",
        "y_pred = pd.Series(model.predict(X), index=y.index)\n",
        "print (f\"MAE: {mean_absolute_error(y_pred, y)}\")\n",
        "\n",
        "X_fore = dp.out_of_sample(steps=90)\n",
        "y_fore = pd.Series(model.predict(X_fore), index=X_fore.index)\n",
        "\n",
        "ax = y.plot(color='0.25', style='.', title=\"Daily Sales at Store 1 - Seasonal Forecast\")\n",
        "ax = y_pred.plot(ax=ax, label=\"Seasonal\")\n",
        "ax = y_fore.plot(ax=ax, label=\"Seasonal Forecast\", color='C3')\n",
        "_ = ax.legend()"
      ],
      "metadata": {
        "id": "5ejpPtoRX_nY"
      },
      "execution_count": null,
      "outputs": []
    },
    {
      "cell_type": "markdown",
      "source": [
        "## Weekly Sales Forecast"
      ],
      "metadata": {
        "id": "jMu16uhsYWzA"
      }
    },
    {
      "cell_type": "code",
      "source": [
        "#Set period with the correct frequency (D for Daily, W for weekly) and DeterministicProcess will set the Date as index\n",
        "data = df_sales1.copy().resample('W-MON').sum(numeric_only=True).to_period('W')\n",
        "\n",
        "dp = DeterministicProcess(\n",
        "    index=data.index,   # dates from the training data\n",
        "    constant=True,       # dummy feature for the bias (y_intercept)\n",
        "    order=1,             # the time dummy (trend)\n",
        "    drop=True,           # drop terms if necessary to avoid collinearity\n",
        "    seasonal=True        # Daily seasonality (indicators)\n",
        ")\n",
        "\n",
        "X = dp.in_sample()\n",
        "X"
      ],
      "metadata": {
        "id": "AQVLlXTTYeAw"
      },
      "execution_count": null,
      "outputs": []
    },
    {
      "cell_type": "code",
      "source": [
        "result = seasonal_decompose(data['Sales'].to_timestamp())\n",
        "plt.show()"
      ],
      "metadata": {
        "id": "tYYDwjw5ir-e"
      },
      "execution_count": null,
      "outputs": []
    },
    {
      "cell_type": "code",
      "source": [
        "y = data[\"Sales\"]\n",
        "\n",
        "model = LinearRegression(fit_intercept=False)\n",
        "_ = model.fit(X, y)\n",
        "\n",
        "y_pred = pd.Series(model.predict(X), index=y.index)\n",
        "print (f\"MAE: {mean_absolute_error(y_pred, y)}\")\n",
        "X_fore = dp.out_of_sample(steps=52)\n",
        "y_fore = pd.Series(model.predict(X_fore), index=X_fore.index)\n",
        "\n",
        "ax = y.plot(color='0.25', style='.', title=\"Weekly Sales at Store 1 - Seasonal Forecast\")\n",
        "ax = y_pred.plot(ax=ax, label=\"Seasonal\")\n",
        "ax = y_fore.plot(ax=ax, label=\"Seasonal Forecast\", color='C3')\n",
        "_ = ax.legend()"
      ],
      "metadata": {
        "id": "QoOGfmAsYWqG"
      },
      "execution_count": null,
      "outputs": []
    },
    {
      "cell_type": "markdown",
      "source": [
        "# Lag\n",
        "\n",
        "Pandas provides us a simple method to lag a series, the `shift` method."
      ],
      "metadata": {
        "id": "1Vf_VaKPTPET"
      }
    },
    {
      "cell_type": "code",
      "source": [
        "data = df_sales1.copy().to_period('D')\n",
        "\n",
        "#shift the daily sales column by 7 row. So that the lag_7 column of day 7 is the sales of one week prior.\n",
        "data['Lag_7'] = data['Sales'].shift(7)\n",
        "data[['Sales', 'Lag_7']].head(14)"
      ],
      "metadata": {
        "id": "SdgDpk3GTOu3"
      },
      "execution_count": null,
      "outputs": []
    },
    {
      "cell_type": "markdown",
      "source": [
        "When creating lag features, we need to decide what to do with the missing values produced. Filling them in is one option, maybe with 0.0 or \"backfilling\" with the first known value. Instead, we'll just drop the missing values, making sure to also drop values in the target from corresponding dates."
      ],
      "metadata": {
        "id": "_UMgu_pXUbC_"
      }
    },
    {
      "cell_type": "code",
      "source": [
        "#from sklearn.linear_model import LinearRegression\n",
        "\n",
        "X = data[['Lag_7']].dropna() # drop missing values in the feature set\n",
        "y = data['Sales']  # create the target\n",
        "y, X = y.align(X, join='inner')  # drop corresponding values in target\n",
        "\n",
        "model = LinearRegression()\n",
        "model.fit(X, y)\n",
        "\n",
        "y_pred = pd.Series(model.predict(X), index=X.index)\n",
        "print (f\"MAE: {mean_absolute_error(y_pred, y)}\")\n",
        "print (f\"Coeffecient {model.coef_}\")\n",
        "print (f\"Intercept {model.intercept_}\")"
      ],
      "metadata": {
        "id": "H_ZEAl6UUd80"
      },
      "execution_count": null,
      "outputs": []
    },
    {
      "cell_type": "code",
      "source": [
        "fig, ax = plt.subplots()\n",
        "ax.plot(X['Lag_7'], y, '.', color='0.25')\n",
        "ax.plot(X['Lag_7'], y_pred)\n",
        "ax.set_aspect('equal')\n",
        "ax.set_ylabel('Sales')\n",
        "ax.set_xlabel('Lag_7')\n",
        "ax.set_title('Lag Plot of Store 1');"
      ],
      "metadata": {
        "id": "M3kRHJ6BU46t"
      },
      "execution_count": null,
      "outputs": []
    },
    {
      "cell_type": "code",
      "source": [
        "_ = plot_acf(data.Sales)"
      ],
      "metadata": {
        "id": "iHRszx7ObJVo"
      },
      "execution_count": null,
      "outputs": []
    },
    {
      "cell_type": "code",
      "source": [
        "_ = plot_pacf(data.Sales)"
      ],
      "metadata": {
        "id": "YgOvyDm9bQIx"
      },
      "execution_count": null,
      "outputs": []
    },
    {
      "cell_type": "code",
      "source": [
        "ax = y.plot()\n",
        "ax = y_pred.plot(title='Daily sales at store 1, Linear model with lag features.')"
      ],
      "metadata": {
        "id": "mAW6b0q6VFj8"
      },
      "execution_count": null,
      "outputs": []
    },
    {
      "cell_type": "code",
      "source": [
        "def lagplot(x, y=None, shift=1, standardize=False, ax=None, **kwargs):\n",
        "    from matplotlib.offsetbox import AnchoredText\n",
        "    x_ = x.shift(shift)\n",
        "    if standardize:\n",
        "        x_ = (x_ - x_.mean()) / x_.std()\n",
        "    if y is not None:\n",
        "        y_ = (y - y.mean()) / y.std() if standardize else y\n",
        "    else:\n",
        "        y_ = x\n",
        "    corr = y_.corr(x_)\n",
        "    if ax is None:\n",
        "        fig, ax = plt.subplots()\n",
        "    scatter_kws = dict(\n",
        "        alpha=0.75,\n",
        "        s=3,\n",
        "    )\n",
        "    line_kws = dict(color='C3', )\n",
        "    ax = sns.regplot(x=x_,\n",
        "                     y=y_,\n",
        "                     scatter_kws=scatter_kws,\n",
        "                     line_kws=line_kws,\n",
        "                     lowess=True,\n",
        "                     ax=ax,\n",
        "                     **kwargs)\n",
        "    at = AnchoredText(\n",
        "        f\"{corr:.2f}\",\n",
        "        prop=dict(size=\"large\"),\n",
        "        frameon=True,\n",
        "        loc=\"upper left\",\n",
        "    )\n",
        "    at.patch.set_boxstyle(\"square, pad=0.0\")\n",
        "    ax.add_artist(at)\n",
        "    title = f\"Lag {shift}\" if shift > 0 else f\"Lead {shift}\"\n",
        "    ax.set(title=f\"Lag {shift}\", xlabel=x_.name, ylabel=y_.name)\n",
        "    return ax\n",
        "\n",
        "#Function to plot lags\n",
        "def plot_lags(x,\n",
        "              y=None,\n",
        "              lags=6,\n",
        "              leads=None,\n",
        "              nrows=1,\n",
        "              lagplot_kwargs={},\n",
        "              **kwargs):\n",
        "    import math\n",
        "    kwargs.setdefault('nrows', nrows)\n",
        "    orig = leads is not None\n",
        "    leads = leads or 0\n",
        "    kwargs.setdefault('ncols', math.ceil((lags + orig + leads) / nrows))\n",
        "    kwargs.setdefault('figsize', (kwargs['ncols'] * 2, nrows * 2 + 0.5))\n",
        "    fig, axs = plt.subplots(sharex=True, sharey=True, squeeze=False, **kwargs)\n",
        "    for ax, k in zip(fig.get_axes(), range(kwargs['nrows'] * kwargs['ncols'])):\n",
        "        k -= leads + orig\n",
        "        if k + 1 <= lags:\n",
        "            ax = lagplot(x, y, shift=k + 1, ax=ax, **lagplot_kwargs)\n",
        "            title = f\"Lag {k + 1}\" if k + 1 >= 0 else f\"Lead {-k - 1}\"\n",
        "            ax.set_title(title, fontdict=dict(fontsize=14))\n",
        "            ax.set(xlabel=\"\", ylabel=\"\")\n",
        "        else:\n",
        "            ax.axis('off')\n",
        "    plt.setp(axs[-1, :], xlabel=x.name)\n",
        "    plt.setp(axs[:, 0], ylabel=y.name if y is not None else x.name)\n",
        "    fig.tight_layout(w_pad=0.1, h_pad=0.1)\n",
        "    return fig\n"
      ],
      "metadata": {
        "id": "_M3x3kD8dHv6"
      },
      "execution_count": null,
      "outputs": []
    },
    {
      "cell_type": "code",
      "source": [
        "_ = plot_lags(y,lags=7)"
      ],
      "metadata": {
        "id": "oe4xcTQqdIO8"
      },
      "execution_count": null,
      "outputs": []
    },
    {
      "cell_type": "markdown",
      "source": [
        "# Deseasoning"
      ],
      "metadata": {
        "id": "aGFumUM8Z8m6"
      }
    },
    {
      "cell_type": "code",
      "source": [
        "#Set period with the correct frequency (D for Daily, W for weekly) and DeterministicProcess will set the Date as index\n",
        "data = df_sales1.copy().to_period('D')\n",
        "\n",
        "fourier = CalendarFourier(freq='Y', order=12)\n",
        "\n",
        "dp = DeterministicProcess(\n",
        "    index=data.index,  # dates from the training data\n",
        "    constant=True,       # dummy feature for the bias (y_intercept)\n",
        "    order=1,             # the time dummy (trend)\n",
        "    drop=True,           # drop terms if necessary to avoid collinearity\n",
        "    seasonal=True,       # Daily seasonality (indicators)\n",
        "    additional_terms=[fourier],\n",
        ")\n",
        "\n",
        "y = data['Sales']\n",
        "X_time = dp.in_sample()\n",
        "\n",
        "model = LinearRegression(fit_intercept=False)\n",
        "model.fit(X_time, y)\n",
        "print (f\"MAE: {mean_absolute_error(model.predict(X_time), y)}\")\n",
        "\n",
        "y_deseason = y - model.predict(X_time)\n",
        "y_deseason.name = 'sales_deseasoned'\n",
        "\n",
        "ax = y_deseason.plot()\n",
        "ax.set_title(\"Sales at store 1 (deseasonalized / residuals)\");"
      ],
      "metadata": {
        "id": "MZfYgtuwZ44h"
      },
      "execution_count": null,
      "outputs": []
    },
    {
      "cell_type": "code",
      "source": [
        "ax = y_deseason.plot()\n",
        "plt.plot_date(data[data.Open == 0].index, y_deseason[data[data.Open == 0].index], color='C3')\n",
        "ax.set_title('Residual Sales - Store not open');\n",
        "plt.rc(\"figure\", autolayout=True, figsize=(11, 4))"
      ],
      "metadata": {
        "id": "ABbpyLOidwU1"
      },
      "execution_count": null,
      "outputs": []
    },
    {
      "cell_type": "markdown",
      "source": [
        "We see that a large number of negative outliers in our residuals occur when Open=0, likely indicating holidays that we have not included in our seaonal model so far."
      ],
      "metadata": {
        "id": "ZFhKKr_U5kme"
      }
    },
    {
      "cell_type": "code",
      "source": [
        "y_deseason.to_frame('residuals').merge(data,left_index=True,right_index=True).plot.box(column='residuals', by='Open', grid=False,title='Residuals by Open value')"
      ],
      "metadata": {
        "id": "UO8v5r1l4_x6"
      },
      "execution_count": null,
      "outputs": []
    },
    {
      "cell_type": "code",
      "source": [
        "ax = y_deseason.plot()\n",
        "plt.plot_date(data[(data.Promo == 1)].index, y_deseason[data[(data.Promo == 1)].index], color='C2')\n",
        "ax.set_title('Store has promotion');\n",
        "plt.rc(\"figure\", autolayout=True, figsize=(11, 4))"
      ],
      "metadata": {
        "id": "MErl7e01eKJX"
      },
      "execution_count": null,
      "outputs": []
    },
    {
      "cell_type": "markdown",
      "source": [
        "Typically we see that we see different residuals depending on whether promotion is active."
      ],
      "metadata": {
        "id": "BaInprDC5ZoY"
      }
    },
    {
      "cell_type": "code",
      "source": [
        "y_deseason.to_frame('residuals').merge(data,left_index=True,right_index=True).plot.box(column='residuals', by='Promo', grid=False,title='Residuals by Promotion value')"
      ],
      "metadata": {
        "id": "xSVPf0PZ4DI4"
      },
      "execution_count": null,
      "outputs": []
    },
    {
      "cell_type": "code",
      "source": [
        "_ = plot_lags(y_deseason,lags=7)"
      ],
      "metadata": {
        "id": "xSdMguQM6J2H"
      },
      "execution_count": null,
      "outputs": []
    },
    {
      "cell_type": "markdown",
      "source": [
        "# Exogenous Factors\n"
      ],
      "metadata": {
        "id": "PRfpJf0qLSTw"
      }
    },
    {
      "cell_type": "code",
      "source": [
        "X2 = X_time.join(data[['Open','Promo']])\n",
        "X2"
      ],
      "metadata": {
        "id": "Dron13gseuz_"
      },
      "execution_count": null,
      "outputs": []
    },
    {
      "cell_type": "code",
      "source": [
        "model = LinearRegression().fit(X2, y)\n",
        "y_pred = pd.Series(\n",
        "    model.predict(X2),\n",
        "    index=X2.index,\n",
        "    name='Fitted',\n",
        ")\n",
        "\n",
        "y_pred = pd.Series(model.predict(X2), index=X2.index).clip(0.0)\n",
        "print (f\"MAE: {mean_absolute_error(y_pred, y)}\")\n",
        "ax = y.plot(alpha=0.5, title=\"Sales at store 1, with promo and open factor\", ylabel=\"items sold\")\n",
        "ax = y_pred.plot(ax=ax, label=\"Seasonal\")\n",
        "ax.legend();"
      ],
      "metadata": {
        "id": "BGsqCDOkfaRc"
      },
      "execution_count": null,
      "outputs": []
    },
    {
      "cell_type": "markdown",
      "source": [
        "# Cross Validation\n",
        "\n"
      ],
      "metadata": {
        "id": "a299E0IlpEGn"
      }
    },
    {
      "cell_type": "code",
      "source": [
        "ts_cv_scores = cross_val_score(model, X2, y_pred, cv=TimeSeriesSplit(n_splits=4), scoring='neg_mean_absolute_error') * -1\n",
        "print (f'time series cross validation Mean score {ts_cv_scores.mean()}')\n",
        "ts_cv_scores"
      ],
      "metadata": {
        "id": "-_3-qf6vtThE"
      },
      "execution_count": null,
      "outputs": []
    },
    {
      "cell_type": "markdown",
      "source": [
        "## Train test split\n",
        "\n",
        "So far we only looked at statistical models, where we don't necessarily need a test/validation dataset.\n",
        "\n",
        "You can use train_test_split to split up your dataset into train and test sets. However you **NEED to set `shuffle=False`** to avoid data being shuffled and losing your temporal relationships in your data."
      ],
      "metadata": {
        "id": "JY7ybbS37arz"
      }
    },
    {
      "cell_type": "code",
      "source": [
        "y = data['Sales']\n",
        "X = data[['Promo','Open']]\n",
        "\n",
        "X_train, X_test, y_train, y_test = train_test_split(X,y,test_size=0.2, shuffle=False)\n",
        "X_train"
      ],
      "metadata": {
        "id": "amvnH7wL7bq9"
      },
      "execution_count": null,
      "outputs": []
    },
    {
      "cell_type": "markdown",
      "source": [
        "You might want to consider applying a manual split to break off at a more natural breakpoint, for example making sure that both train and test set start at a Monday\n"
      ],
      "metadata": {
        "id": "nHn8mz1K8KV1"
      }
    },
    {
      "cell_type": "code",
      "source": [
        "from_date = '2013-01-01' #Tuesday\n",
        "to_date = '2015-01-06' #Tuesday\n",
        "X_train = X[from_date:to_date]\n",
        "X_test = X[to_date:]\n",
        "y_train = y[from_date:to_date]\n",
        "y_test = y[to_date:]\n",
        "print (f\"Length train {len(X_train)} test {len(X_test)}\")"
      ],
      "metadata": {
        "id": "ZtIH-ZFY8PpS"
      },
      "execution_count": null,
      "outputs": []
    },
    {
      "cell_type": "markdown",
      "source": [
        "# Hybrid models\n",
        "\n"
      ],
      "metadata": {
        "id": "qGlTTHQwZugo"
      }
    },
    {
      "cell_type": "markdown",
      "source": [
        "###### Code"
      ],
      "metadata": {
        "id": "NG9uaUuVfwkJ"
      }
    },
    {
      "cell_type": "code",
      "source": [
        "class BoostedHybrid:\n",
        "    def __init__(self, model_1, model_2):\n",
        "        self.model_1 = model_1\n",
        "        self.model_2 = model_2 # Model 2 trains on the residuals of the forecast of model_1\n",
        "        self.y_columns = None  # store column names from fit method\n",
        "\n",
        "\n",
        "    def fit(self, X_1, X_2, y):\n",
        "        # Train model_1\n",
        "        self.model_1.fit(X_1, y)\n",
        "\n",
        "        # Make predictions\n",
        "        y_fit = pd.DataFrame(\n",
        "            self.model_1.predict(X_1),\n",
        "            index=X_1.index, columns=y.columns,\n",
        "        )\n",
        "\n",
        "        # Compute residuals\n",
        "        y_resid = y - y_fit\n",
        "        y_resid = y_resid.stack().squeeze() # wide to long\n",
        "\n",
        "        # Train model_2 on residuals\n",
        "        self.model_2.fit(X_2, y_resid)\n",
        "\n",
        "        # Save column names for predict method\n",
        "        self.y_columns = y.columns\n",
        "\n",
        "        self.y_fit = y_fit\n",
        "        self.y_resid = y_resid\n",
        "\n",
        "    def predict(self, X_1, X_2):\n",
        "        # Predict with model_1\n",
        "        y_pred = pd.DataFrame(\n",
        "            self.model_1.predict(X_1),\n",
        "            index=X_1.index, columns=self.y_columns,\n",
        "        )\n",
        "        y_pred = y_pred.stack().squeeze()  # wide to long\n",
        "\n",
        "        # Add model_2 predictions to model_1 predictions\n",
        "        y_pred += self.model_2.predict(X_2)\n",
        "\n",
        "        return y_pred.unstack()"
      ],
      "metadata": {
        "id": "JaNj4Q-Fftmy"
      },
      "execution_count": null,
      "outputs": []
    },
    {
      "cell_type": "markdown",
      "source": [
        "#### Example"
      ],
      "metadata": {
        "id": "Zs5TEY6nf0vN"
      }
    },
    {
      "cell_type": "code",
      "source": [
        "# Create model\n",
        "model = BoostedHybrid(\n",
        "    model_1=LinearRegression(),\n",
        "    model_2=RandomForestRegressor(),\n",
        ")\n",
        "\n",
        "X_1 = X_time\n",
        "X_2 = data[['Open','Promo']]\n",
        "model.fit(X_1, X_2, data[['Sales']])\n",
        "\n",
        "y_pred = model.predict(X_1, X_2)\n",
        "y_pred = y_pred.clip(0.0) #.clip(0.0) removes negative values\n",
        "print (f\"MAE: {mean_absolute_error(y_pred.Sales, y)}\")"
      ],
      "metadata": {
        "id": "dcMLjEQHf0MS"
      },
      "execution_count": null,
      "outputs": []
    },
    {
      "cell_type": "code",
      "source": [
        "ax = y.plot(alpha=0.5, title=\"Sales at store 1, with hybrid model\", ylabel=\"items sold\")\n",
        "ax = y_pred.Sales.plot(ax=ax, label=\"Seasonal\")\n",
        "ax.legend();"
      ],
      "metadata": {
        "id": "dtLqvVKwiLna"
      },
      "execution_count": null,
      "outputs": []
    },
    {
      "cell_type": "markdown",
      "metadata": {
        "id": "3Ccu1GVZ_lZp"
      },
      "source": [
        "# Assignment\n",
        "\n",
        "1) Repeat the lab notebook experimenting with the following Time-Step features and Time Series features\n",
        "\n",
        "* Time-Step feature: Fourier Series. Instead of 12 monthly sine-cosine pairs over the year, replace with 4 sine-cosine pairs\n",
        "\n",
        "* Time Series feature: Add Lag and Lead for promotion.\n",
        "\n",
        "\n",
        "Does the addition of the new Time-Step and Time Series features yield \"better\" results than in lab? Explain your intuition why or why not.\n",
        "\n",
        "2) Experiment with a different linear model (lasso, ridge, elasticnet) and a different non-linear model (gradient boosted trees) in a new hybrid model.\n",
        "\n",
        "\n",
        "Do your changes of the linear model (model 1) and the non-linear model (model 2) yield \"better\" results than in lab? Explain your intuition why or why not.\n"
      ]
    }
  ],
  "metadata": {
    "colab": {
      "provenance": [],
      "toc_visible": true
    },
    "kernelspec": {
      "display_name": "Python 3",
      "name": "python3"
    },
    "language_info": {
      "name": "python"
    }
  },
  "nbformat": 4,
  "nbformat_minor": 0
}